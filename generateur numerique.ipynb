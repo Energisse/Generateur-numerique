{
 "cells": [
  {
   "cell_type": "markdown",
   "id": "9329975a-e4c9-49ad-94ab-dadf265dbb7b",
   "metadata": {},
   "source": [
    "<h1 style=\"color:blue\">Générateur numérique"
   ]
  },
  {
   "cell_type": "markdown",
   "id": "af3b0f23",
   "metadata": {},
   "source": [
    "Le générateur de données numérique permet de générer des données sous forme de fonction sinusoïdale"
   ]
  },
  {
   "cell_type": "markdown",
   "id": "f5ec1ca3",
   "metadata": {},
   "source": [
    "<h2 style=\"color:orange\">Simulation a l'aide d'une simple fonction"
   ]
  },
  {
   "cell_type": "markdown",
   "id": "b63f2988-5140-482f-8097-8db5ce4f74b4",
   "metadata": {
    "tags": []
   },
   "source": [
    "<h3 style=\"color:green\">Géneration de la formule"
   ]
  },
  {
   "cell_type": "code",
   "execution_count": 1,
   "id": "fcd2cc66-eacd-4d76-bc55-e5ddd064ca28",
   "metadata": {},
   "outputs": [],
   "source": [
    "from formule_mono_periode import FormuleMonoPeriode\n",
    "from formule import Formule\n",
    "periode = 20 #20 secondes\n",
    "amplitude = 1\n",
    "formule = Formule(\"Formule 1\")\n",
    "formule.ajouter_monoperiode(FormuleMonoPeriode(periode,amplitude))"
   ]
  },
  {
   "cell_type": "markdown",
   "id": "5fd5e558-2bd7-4280-acfc-57021993b3a3",
   "metadata": {},
   "source": [
    "<h3 style=\"color:green\">Calcul de la formule"
   ]
  },
  {
   "cell_type": "code",
   "execution_count": 2,
   "id": "95274996-a77c-4905-9831-4c5b63d72cfa",
   "metadata": {},
   "outputs": [],
   "source": [
    "from controleur import Controleur\n",
    "\n",
    "nombre_echantillon = 100\n",
    "periode = 1 #1 seconde\n",
    "\n",
    "controleur = Controleur(nombre_echantillon,periode)\n",
    "controleur.ajouter_formule(formule)\n",
    "controleur.calcul()"
   ]
  },
  {
   "cell_type": "markdown",
   "id": "a7da49de-c326-4209-851a-5194e992e0f3",
   "metadata": {},
   "source": [
    "<h4 style=\"color:SkyBlue\">Résultat : Tableau"
   ]
  },
  {
   "cell_type": "code",
   "execution_count": 3,
   "id": "c64f99e0-a86a-4a2b-91bc-5f8727f0abb8",
   "metadata": {},
   "outputs": [
    {
     "data": {
      "text/html": [
       "<div>\n",
       "<style scoped>\n",
       "    .dataframe tbody tr th:only-of-type {\n",
       "        vertical-align: middle;\n",
       "    }\n",
       "\n",
       "    .dataframe tbody tr th {\n",
       "        vertical-align: top;\n",
       "    }\n",
       "\n",
       "    .dataframe thead th {\n",
       "        text-align: right;\n",
       "    }\n",
       "</style>\n",
       "<table border=\"1\" class=\"dataframe\">\n",
       "  <thead>\n",
       "    <tr style=\"text-align: right;\">\n",
       "      <th></th>\n",
       "      <th>Formule 1</th>\n",
       "    </tr>\n",
       "  </thead>\n",
       "  <tbody>\n",
       "    <tr>\n",
       "      <th>17:26:05 2022/03/29</th>\n",
       "      <td>0.000000</td>\n",
       "    </tr>\n",
       "    <tr>\n",
       "      <th>17:26:06 2022/03/29</th>\n",
       "      <td>0.309017</td>\n",
       "    </tr>\n",
       "    <tr>\n",
       "      <th>17:26:07 2022/03/29</th>\n",
       "      <td>0.587785</td>\n",
       "    </tr>\n",
       "    <tr>\n",
       "      <th>17:26:08 2022/03/29</th>\n",
       "      <td>0.809017</td>\n",
       "    </tr>\n",
       "    <tr>\n",
       "      <th>17:26:09 2022/03/29</th>\n",
       "      <td>0.951057</td>\n",
       "    </tr>\n",
       "    <tr>\n",
       "      <th>17:26:10 2022/03/29</th>\n",
       "      <td>1.000000</td>\n",
       "    </tr>\n",
       "    <tr>\n",
       "      <th>17:26:11 2022/03/29</th>\n",
       "      <td>0.951057</td>\n",
       "    </tr>\n",
       "    <tr>\n",
       "      <th>17:26:12 2022/03/29</th>\n",
       "      <td>0.809017</td>\n",
       "    </tr>\n",
       "    <tr>\n",
       "      <th>17:26:13 2022/03/29</th>\n",
       "      <td>0.587785</td>\n",
       "    </tr>\n",
       "    <tr>\n",
       "      <th>17:26:14 2022/03/29</th>\n",
       "      <td>0.309017</td>\n",
       "    </tr>\n",
       "  </tbody>\n",
       "</table>\n",
       "</div>"
      ],
      "text/plain": [
       "                     Formule 1\n",
       "17:26:05 2022/03/29   0.000000\n",
       "17:26:06 2022/03/29   0.309017\n",
       "17:26:07 2022/03/29   0.587785\n",
       "17:26:08 2022/03/29   0.809017\n",
       "17:26:09 2022/03/29   0.951057\n",
       "17:26:10 2022/03/29   1.000000\n",
       "17:26:11 2022/03/29   0.951057\n",
       "17:26:12 2022/03/29   0.809017\n",
       "17:26:13 2022/03/29   0.587785\n",
       "17:26:14 2022/03/29   0.309017"
      ]
     },
     "execution_count": 3,
     "metadata": {},
     "output_type": "execute_result"
    }
   ],
   "source": [
    "controleur.data_frame.head(10)"
   ]
  },
  {
   "cell_type": "markdown",
   "id": "0dd23ef0-db5e-4bad-8c09-3081bd6769b9",
   "metadata": {},
   "source": [
    "<h4 style=\"color:SkyBlue\">Résultat : Graphique"
   ]
  },
  {
   "cell_type": "code",
   "execution_count": 4,
   "id": "94592364-1f0e-45e1-bdff-0f61243048df",
   "metadata": {},
   "outputs": [
    {
     "data": {
      "text/plain": [
       "<AxesSubplot:>"
      ]
     },
     "execution_count": 4,
     "metadata": {},
     "output_type": "execute_result"
    },
    {
     "data": {
      "image/png": "[encoded data removed]",
      "text/plain": [
       "<Figure size 1440x144 with 1 Axes>"
      ]
     },
     "metadata": {
      "needs_background": "light"
     },
     "output_type": "display_data"
    }
   ],
   "source": [
    "controleur.data_frame.plot(figsize=[20,2])"
   ]
  },
  {
   "cell_type": "markdown",
   "id": "e888ade7-f7c6-455d-95a1-60bed74efb1d",
   "metadata": {},
   "source": [
    "<h2 style=\"color:orange\">Simulation a l'aide de bruit"
   ]
  },
  {
   "cell_type": "markdown",
   "id": "a4ff59f3",
   "metadata": {},
   "source": [
    "<h3 style=\"color:green\">Géneration de la formule"
   ]
  },
  {
   "cell_type": "code",
   "execution_count": 6,
   "id": "091982b9-2f41-495b-b830-b22a8535adc0",
   "metadata": {},
   "outputs": [],
   "source": [
    "from formule_mono_periode import FormuleMonoPeriode\n",
    "from formule_bruit import FormuleBruit\n",
    "from formule import Formule\n",
    "periode = 20 #20 secondes\n",
    "amplitude = 1\n",
    "bruit = 1\n",
    "\n",
    "formule = Formule(\"Formule sans bruit\")\n",
    "formule.ajouter_monoperiode(FormuleMonoPeriode(periode,amplitude))\n",
    "\n",
    "formule_bruit = Formule(\"Formule avec bruit\")\n",
    "formule_bruit.ajouter_monoperiode(FormuleMonoPeriode(periode,amplitude))\n",
    "formule_bruit.ajouter_monoperiode(FormuleBruit(bruit))"
   ]
  },
  {
   "cell_type": "markdown",
   "id": "05bcea68-f76a-46d6-a5d2-8eabd125f283",
   "metadata": {},
   "source": [
    "<h3 style=\"color:green\">Calcul de la formule"
   ]
  },
  {
   "cell_type": "code",
   "execution_count": 7,
   "id": "35113c25-b847-490d-9bfe-baf30cfff137",
   "metadata": {},
   "outputs": [],
   "source": [
    "from controleur import Controleur\n",
    "\n",
    "nombre_echantillon = 100\n",
    "periode = 1 #1 seconde\n",
    "\n",
    "controleur = Controleur(nombre_echantillon,periode)\n",
    "controleur.ajouter_formule(formule)\n",
    "controleur.ajouter_formule(formule_bruit)\n",
    "controleur.calcul()"
   ]
  },
  {
   "cell_type": "markdown",
   "id": "1a6c3b09-55b7-44db-b628-7536d37fbd16",
   "metadata": {},
   "source": [
    "<h4 style=\"color:SkyBlue\">Résultat : Tableau"
   ]
  },
  {
   "cell_type": "code",
   "execution_count": 8,
   "id": "e2360acf-690f-4557-b8ea-b3a32d3cd659",
   "metadata": {},
   "outputs": [
    {
     "data": {
      "text/html": [
       "<div>\n",
       "<style scoped>\n",
       "    .dataframe tbody tr th:only-of-type {\n",
       "        vertical-align: middle;\n",
       "    }\n",
       "\n",
       "    .dataframe tbody tr th {\n",
       "        vertical-align: top;\n",
       "    }\n",
       "\n",
       "    .dataframe thead th {\n",
       "        text-align: right;\n",
       "    }\n",
       "</style>\n",
       "<table border=\"1\" class=\"dataframe\">\n",
       "  <thead>\n",
       "    <tr style=\"text-align: right;\">\n",
       "      <th></th>\n",
       "      <th>Formule sans bruit</th>\n",
       "      <th>Formule avec bruit</th>\n",
       "    </tr>\n",
       "  </thead>\n",
       "  <tbody>\n",
       "    <tr>\n",
       "      <th>18:00:36 2022/04/01</th>\n",
       "      <td>0.000000</td>\n",
       "      <td>-0.314148</td>\n",
       "    </tr>\n",
       "    <tr>\n",
       "      <th>18:00:37 2022/04/01</th>\n",
       "      <td>0.309017</td>\n",
       "      <td>0.290011</td>\n",
       "    </tr>\n",
       "    <tr>\n",
       "      <th>18:00:38 2022/04/01</th>\n",
       "      <td>0.587785</td>\n",
       "      <td>0.135931</td>\n",
       "    </tr>\n",
       "    <tr>\n",
       "      <th>18:00:39 2022/04/01</th>\n",
       "      <td>0.809017</td>\n",
       "      <td>1.242661</td>\n",
       "    </tr>\n",
       "    <tr>\n",
       "      <th>18:00:40 2022/04/01</th>\n",
       "      <td>0.951057</td>\n",
       "      <td>1.068232</td>\n",
       "    </tr>\n",
       "    <tr>\n",
       "      <th>18:00:41 2022/04/01</th>\n",
       "      <td>1.000000</td>\n",
       "      <td>1.123295</td>\n",
       "    </tr>\n",
       "    <tr>\n",
       "      <th>18:00:42 2022/04/01</th>\n",
       "      <td>0.951057</td>\n",
       "      <td>0.914985</td>\n",
       "    </tr>\n",
       "    <tr>\n",
       "      <th>18:00:43 2022/04/01</th>\n",
       "      <td>0.809017</td>\n",
       "      <td>1.113083</td>\n",
       "    </tr>\n",
       "    <tr>\n",
       "      <th>18:00:44 2022/04/01</th>\n",
       "      <td>0.587785</td>\n",
       "      <td>0.869145</td>\n",
       "    </tr>\n",
       "    <tr>\n",
       "      <th>18:00:45 2022/04/01</th>\n",
       "      <td>0.309017</td>\n",
       "      <td>-0.070536</td>\n",
       "    </tr>\n",
       "  </tbody>\n",
       "</table>\n",
       "</div>"
      ],
      "text/plain": [
       "                     Formule sans bruit  Formule avec bruit\n",
       "18:00:36 2022/04/01            0.000000           -0.314148\n",
       "18:00:37 2022/04/01            0.309017            0.290011\n",
       "18:00:38 2022/04/01            0.587785            0.135931\n",
       "18:00:39 2022/04/01            0.809017            1.242661\n",
       "18:00:40 2022/04/01            0.951057            1.068232\n",
       "18:00:41 2022/04/01            1.000000            1.123295\n",
       "18:00:42 2022/04/01            0.951057            0.914985\n",
       "18:00:43 2022/04/01            0.809017            1.113083\n",
       "18:00:44 2022/04/01            0.587785            0.869145\n",
       "18:00:45 2022/04/01            0.309017           -0.070536"
      ]
     },
     "execution_count": 8,
     "metadata": {},
     "output_type": "execute_result"
    }
   ],
   "source": [
    "controleur.data_frame.head(10)"
   ]
  },
  {
   "cell_type": "markdown",
   "id": "020c8e2a-f9d4-4ef5-8063-8378fe39341c",
   "metadata": {},
   "source": [
    "<h4 style=\"color:SkyBlue\">Résultat : Graphique"
   ]
  },
  {
   "cell_type": "code",
   "execution_count": 8,
   "id": "e94b8339-57af-45ba-8978-353eacd23343",
   "metadata": {},
   "outputs": [
    {
     "data": {
      "text/plain": [
       "<AxesSubplot:>"
      ]
     },
     "execution_count": 8,
     "metadata": {},
     "output_type": "execute_result"
    },
    {
     "data": {
      "image/png": "[encoded data removed]",
      "text/plain": [
       "<Figure size 1440x144 with 1 Axes>"
      ]
     },
     "metadata": {
      "needs_background": "light"
     },
     "output_type": "display_data"
    }
   ],
   "source": [
    "controleur.data_frame.plot(figsize=[20,2])"
   ]
  },
  {
   "cell_type": "markdown",
   "id": "e888ade7-f7c6-455d-95a1-60bed74efb1d",
   "metadata": {},
   "source": [
    "<h2 style=\"color:orange\">Simulation a l'aide de somme de fonction"
   ]
  },
  {
   "cell_type": "markdown",
   "id": "ed8cc312",
   "metadata": {},
   "source": [
    "Dans cette exemple nous voulons simuler un capteur de température ayant une température moyenne à 25°C et avec une amplitude de 5°C"
   ]
  },
  {
   "cell_type": "markdown",
   "id": "05bcea68-f76a-46d6-a5d2-8eabd125f283",
   "metadata": {},
   "source": [
    "<h3 style=\"color:green\">Calcul des formules"
   ]
  },
  {
   "cell_type": "markdown",
   "id": "723c0c04",
   "metadata": {},
   "source": [
    "Pour cela il faut 3 formules\n",
    "<ul>\n",
    "    <li>Une formule période de 1 journée et d'amplitude 5</li>\n",
    "    <li>Une formule ayant une periode nulle et une amplitude de 25</li>\n",
    "    <li>Une formule de bruit</li>\n",
    "</ul>\n"
   ]
  },
  {
   "cell_type": "code",
   "execution_count": 5,
   "id": "7c8fd0c9",
   "metadata": {},
   "outputs": [
    {
     "ename": "TypeError",
     "evalue": "__init__() takes from 1 to 3 positional arguments but 4 were given",
     "output_type": "error",
     "traceback": [
      "\u001b[1;31m---------------------------------------------------------------------------\u001b[0m",
      "\u001b[1;31mTypeError\u001b[0m                                 Traceback (most recent call last)",
      "Input \u001b[1;32mIn [5]\u001b[0m, in \u001b[0;36m<cell line: 6>\u001b[1;34m()\u001b[0m\n\u001b[0;32m      4\u001b[0m formule_periodique \u001b[38;5;241m=\u001b[39m FormuleMonoPeriode(\u001b[38;5;241m3600\u001b[39m\u001b[38;5;241m*\u001b[39m\u001b[38;5;241m24\u001b[39m,\u001b[38;5;241m5\u001b[39m)\n\u001b[0;32m      5\u001b[0m formule_periodique_nulle \u001b[38;5;241m=\u001b[39m FormuleMonoPeriode(\u001b[38;5;241m0\u001b[39m,\u001b[38;5;241m25\u001b[39m)\n\u001b[1;32m----> 6\u001b[0m formule_bruit \u001b[38;5;241m=\u001b[39m \u001b[43mFormuleMonoPeriode\u001b[49m\u001b[43m(\u001b[49m\u001b[38;5;241;43m0\u001b[39;49m\u001b[43m,\u001b[49m\u001b[38;5;241;43m0\u001b[39;49m\u001b[43m,\u001b[49m\u001b[38;5;241;43m1\u001b[39;49m\u001b[43m)\u001b[49m\n\u001b[0;32m      8\u001b[0m formule_temperature \u001b[38;5;241m=\u001b[39m Formule(\u001b[38;5;124m\"\u001b[39m\u001b[38;5;124mTemperature\u001b[39m\u001b[38;5;124m\"\u001b[39m)\n\u001b[0;32m     10\u001b[0m nombre_echantillon \u001b[38;5;241m=\u001b[39m \u001b[38;5;241m144\u001b[39m\n",
      "\u001b[1;31mTypeError\u001b[0m: __init__() takes from 1 to 3 positional arguments but 4 were given"
     ]
    }
   ],
   "source": [
    "from formule_mono_periode import FormuleMonoPeriode\n",
    "from formule import Formule\n",
    "from formule_bruit import FormuleBruit\n",
    "from controleur import Controleur\n",
    "formule_periodique = FormuleMonoPeriode(3600*24,5)\n",
    "formule_periodique_nulle = FormuleMonoPeriode(0,25)\n",
    "formule_bruit = FormuleBruit(1)\n",
    "\n",
    "formule_temperature = Formule(\"Temperature\")\n",
    "\n",
    "nombre_echantillon = 144\n",
    "periode = 3600 #1 heure\n",
    "formule_temperature.ajouter_monoperiode(formule_periodique)\n",
    "formule_temperature.ajouter_monoperiode(formule_periodique_nulle)\n",
    "formule_temperature.ajouter_monoperiode(formule_bruit)\n",
    "\n",
    "controleur = Controleur(nombre_echantillon,periode)\n",
    "controleur.ajouter_formule(formule_temperature)\n",
    "controleur.calcul()\n"
   ]
  },
  {
   "cell_type": "markdown",
   "id": "020c8e2a-f9d4-4ef5-8063-8378fe39341c",
   "metadata": {},
   "source": [
    "<h4 style=\"color:SkyBlue\">Résultat : Tableau"
   ]
  },
  {
   "cell_type": "code",
   "execution_count": 4,
   "id": "cefbf1b9",
   "metadata": {},
   "outputs": [
    {
     "data": {
      "text/html": [
       "<div>\n",
       "<style scoped>\n",
       "    .dataframe tbody tr th:only-of-type {\n",
       "        vertical-align: middle;\n",
       "    }\n",
       "\n",
       "    .dataframe tbody tr th {\n",
       "        vertical-align: top;\n",
       "    }\n",
       "\n",
       "    .dataframe thead th {\n",
       "        text-align: right;\n",
       "    }\n",
       "</style>\n",
       "<table border=\"1\" class=\"dataframe\">\n",
       "  <thead>\n",
       "    <tr style=\"text-align: right;\">\n",
       "      <th></th>\n",
       "      <th>Formule sans bruit</th>\n",
       "      <th>Formule avec bruit</th>\n",
       "    </tr>\n",
       "  </thead>\n",
       "  <tbody>\n",
       "    <tr>\n",
       "      <th>17:58:06 2022/04/01</th>\n",
       "      <td>0.000000</td>\n",
       "      <td>-0.282131</td>\n",
       "    </tr>\n",
       "    <tr>\n",
       "      <th>17:58:07 2022/04/01</th>\n",
       "      <td>0.309017</td>\n",
       "      <td>0.367980</td>\n",
       "    </tr>\n",
       "    <tr>\n",
       "      <th>17:58:08 2022/04/01</th>\n",
       "      <td>0.587785</td>\n",
       "      <td>1.063460</td>\n",
       "    </tr>\n",
       "    <tr>\n",
       "      <th>17:58:09 2022/04/01</th>\n",
       "      <td>0.809017</td>\n",
       "      <td>0.898425</td>\n",
       "    </tr>\n",
       "    <tr>\n",
       "      <th>17:58:10 2022/04/01</th>\n",
       "      <td>0.951057</td>\n",
       "      <td>1.249610</td>\n",
       "    </tr>\n",
       "    <tr>\n",
       "      <th>17:58:11 2022/04/01</th>\n",
       "      <td>1.000000</td>\n",
       "      <td>0.933544</td>\n",
       "    </tr>\n",
       "    <tr>\n",
       "      <th>17:58:12 2022/04/01</th>\n",
       "      <td>0.951057</td>\n",
       "      <td>0.685652</td>\n",
       "    </tr>\n",
       "    <tr>\n",
       "      <th>17:58:13 2022/04/01</th>\n",
       "      <td>0.809017</td>\n",
       "      <td>1.223976</td>\n",
       "    </tr>\n",
       "    <tr>\n",
       "      <th>17:58:14 2022/04/01</th>\n",
       "      <td>0.587785</td>\n",
       "      <td>0.934767</td>\n",
       "    </tr>\n",
       "    <tr>\n",
       "      <th>17:58:15 2022/04/01</th>\n",
       "      <td>0.309017</td>\n",
       "      <td>0.054399</td>\n",
       "    </tr>\n",
       "  </tbody>\n",
       "</table>\n",
       "</div>"
      ],
      "text/plain": [
       "                     Formule sans bruit  Formule avec bruit\n",
       "17:58:06 2022/04/01            0.000000           -0.282131\n",
       "17:58:07 2022/04/01            0.309017            0.367980\n",
       "17:58:08 2022/04/01            0.587785            1.063460\n",
       "17:58:09 2022/04/01            0.809017            0.898425\n",
       "17:58:10 2022/04/01            0.951057            1.249610\n",
       "17:58:11 2022/04/01            1.000000            0.933544\n",
       "17:58:12 2022/04/01            0.951057            0.685652\n",
       "17:58:13 2022/04/01            0.809017            1.223976\n",
       "17:58:14 2022/04/01            0.587785            0.934767\n",
       "17:58:15 2022/04/01            0.309017            0.054399"
      ]
     },
     "execution_count": 4,
     "metadata": {},
     "output_type": "execute_result"
    }
   ],
   "source": [
    "controleur.data_frame.head(10)"
   ]
  },
  {
   "cell_type": "markdown",
   "id": "020c8e2a-f9d4-4ef5-8063-8378fe39341c",
   "metadata": {},
   "source": [
    "<h4 style=\"color:SkyBlue\">Résultat : Graphique"
   ]
  },
  {
   "cell_type": "code",
   "execution_count": 11,
   "id": "9e9ebd86",
   "metadata": {},
   "outputs": [
    {
     "data": {
      "text/plain": [
       "<AxesSubplot:>"
      ]
     },
     "execution_count": 11,
     "metadata": {},
     "output_type": "execute_result"
    },
    {
     "data": {
      "image/png": "[encoded data removed]",
      "text/plain": [
       "<Figure size 1440x144 with 1 Axes>"
      ]
     },
     "metadata": {
      "needs_background": "light"
     },
     "output_type": "display_data"
    }
   ],
   "source": [
    "controleur.data_frame.plot(figsize=[20,2])"
   ]
  },
  {
   "cell_type": "code",
   "execution_count": null,
   "id": "8545ffd6",
   "metadata": {},
   "outputs": [],
   "source": []
  }
 ],
 "metadata": {
  "kernelspec": {
   "display_name": "Python 3 (ipykernel)",
   "language": "python",
   "name": "python3"
  },
  "language_info": {
   "codemirror_mode": {
    "name": "ipython",
    "version": 3
   },
   "file_extension": ".py",
   "mimetype": "text/x-python",
   "name": "python",
   "nbconvert_exporter": "python",
   "pygments_lexer": "ipython3",
   "version": "3.8.6"
  }
 },
 "nbformat": 4,
 "nbformat_minor": 5
}
