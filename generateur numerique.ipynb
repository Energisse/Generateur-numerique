{
 "cells": [
  {
   "cell_type": "markdown",
   "id": "9329975a-e4c9-49ad-94ab-dadf265dbb7b",
   "metadata": {},
   "source": [
    "<h1 style=\"color:blue\">Générateur numérique"
   ]
  },
  {
   "cell_type": "markdown",
   "id": "b63f2988-5140-482f-8097-8db5ce4f74b4",
   "metadata": {
    "tags": []
   },
   "source": [
    "<h2 style=\"color:orange\">Géneration de formule"
   ]
  },
  {
   "cell_type": "code",
   "execution_count": 31,
   "id": "fcd2cc66-eacd-4d76-bc55-e5ddd064ca28",
   "metadata": {},
   "outputs": [],
   "source": [
    "from formule import Formule\n",
    "periode = 20 #20 secondes\n",
    "amplitude = 1\n",
    "formule1 = Formule(\"Formule1\",periode,amplitude)"
   ]
  },
  {
   "cell_type": "markdown",
   "id": "5fd5e558-2bd7-4280-acfc-57021993b3a3",
   "metadata": {},
   "source": [
    "<h2 style=\"color:orange\">Calcul de la formule"
   ]
  },
  {
   "cell_type": "code",
   "execution_count": 32,
   "id": "95274996-a77c-4905-9831-4c5b63d72cfa",
   "metadata": {},
   "outputs": [],
   "source": [
    "from controleur import Controleur\n",
    "\n",
    "nombre_echantillon = 100\n",
    "periode = 1 #1 seconde\n",
    "\n",
    "controleur = Controleur(nombre_echantillon,periode)\n",
    "controleur.addFormule(formule1)\n",
    "controleur.calcul(\"test.csv\")"
   ]
  },
  {
   "cell_type": "markdown",
   "id": "a7da49de-c326-4209-851a-5194e992e0f3",
   "metadata": {},
   "source": [
    "<h3 style=\"color:SkyBlue\">CSV"
   ]
  },
  {
   "cell_type": "code",
   "execution_count": 33,
   "id": "c64f99e0-a86a-4a2b-91bc-5f8727f0abb8",
   "metadata": {},
   "outputs": [
    {
     "data": {
      "text/html": [
       "<div>\n",
       "<style scoped>\n",
       "    .dataframe tbody tr th:only-of-type {\n",
       "        vertical-align: middle;\n",
       "    }\n",
       "\n",
       "    .dataframe tbody tr th {\n",
       "        vertical-align: top;\n",
       "    }\n",
       "\n",
       "    .dataframe thead th {\n",
       "        text-align: right;\n",
       "    }\n",
       "</style>\n",
       "<table border=\"1\" class=\"dataframe\">\n",
       "  <thead>\n",
       "    <tr style=\"text-align: right;\">\n",
       "      <th></th>\n",
       "      <th>date</th>\n",
       "      <th>0</th>\n",
       "    </tr>\n",
       "  </thead>\n",
       "  <tbody>\n",
       "    <tr>\n",
       "      <th>0</th>\n",
       "      <td>13:49:59 2022/03/15</td>\n",
       "      <td>0.000000</td>\n",
       "    </tr>\n",
       "    <tr>\n",
       "      <th>1</th>\n",
       "      <td>13:50:00 2022/03/15</td>\n",
       "      <td>0.309017</td>\n",
       "    </tr>\n",
       "    <tr>\n",
       "      <th>2</th>\n",
       "      <td>13:50:01 2022/03/15</td>\n",
       "      <td>0.587785</td>\n",
       "    </tr>\n",
       "    <tr>\n",
       "      <th>3</th>\n",
       "      <td>13:50:02 2022/03/15</td>\n",
       "      <td>0.809017</td>\n",
       "    </tr>\n",
       "    <tr>\n",
       "      <th>4</th>\n",
       "      <td>13:50:03 2022/03/15</td>\n",
       "      <td>0.951057</td>\n",
       "    </tr>\n",
       "    <tr>\n",
       "      <th>5</th>\n",
       "      <td>13:50:04 2022/03/15</td>\n",
       "      <td>1.000000</td>\n",
       "    </tr>\n",
       "    <tr>\n",
       "      <th>6</th>\n",
       "      <td>13:50:05 2022/03/15</td>\n",
       "      <td>0.951057</td>\n",
       "    </tr>\n",
       "    <tr>\n",
       "      <th>7</th>\n",
       "      <td>13:50:06 2022/03/15</td>\n",
       "      <td>0.809017</td>\n",
       "    </tr>\n",
       "    <tr>\n",
       "      <th>8</th>\n",
       "      <td>13:50:07 2022/03/15</td>\n",
       "      <td>0.587785</td>\n",
       "    </tr>\n",
       "    <tr>\n",
       "      <th>9</th>\n",
       "      <td>13:50:08 2022/03/15</td>\n",
       "      <td>0.309017</td>\n",
       "    </tr>\n",
       "  </tbody>\n",
       "</table>\n",
       "</div>"
      ],
      "text/plain": [
       "                  date         0\n",
       "0  13:49:59 2022/03/15  0.000000\n",
       "1  13:50:00 2022/03/15  0.309017\n",
       "2  13:50:01 2022/03/15  0.587785\n",
       "3  13:50:02 2022/03/15  0.809017\n",
       "4  13:50:03 2022/03/15  0.951057\n",
       "5  13:50:04 2022/03/15  1.000000\n",
       "6  13:50:05 2022/03/15  0.951057\n",
       "7  13:50:06 2022/03/15  0.809017\n",
       "8  13:50:07 2022/03/15  0.587785\n",
       "9  13:50:08 2022/03/15  0.309017"
      ]
     },
     "execution_count": 33,
     "metadata": {},
     "output_type": "execute_result"
    }
   ],
   "source": [
    "import pandas as pd\n",
    "\n",
    "df = pd.read_csv(\"test.csv\", sep=\",\")\n",
    "df.head(10)"
   ]
  },
  {
   "cell_type": "markdown",
   "id": "0dd23ef0-db5e-4bad-8c09-3081bd6769b9",
   "metadata": {},
   "source": [
    "<h3 style=\"color:SkyBlue\">Graphique"
   ]
  },
  {
   "cell_type": "code",
   "execution_count": 34,
   "id": "94592364-1f0e-45e1-bdff-0f61243048df",
   "metadata": {},
   "outputs": [
    {
     "data": {
      "image/png": "[encoded data removed]",
      "text/plain": [
       "<Figure size 1440x144 with 1 Axes>"
      ]
     },
     "metadata": {
      "needs_background": "light"
     },
     "output_type": "display_data"
    }
   ],
   "source": [
    "import matplotlib.pyplot as plt\n",
    "import csv\n",
    "x = []\n",
    "y1 = []\n",
    "with open('test.csv','r') as csvfile:\n",
    "    plots = csv.reader(csvfile, delimiter = ',')\n",
    "    next(plots, None) #passer le header\n",
    "    i=1\n",
    "    for row in plots:\n",
    "        x.append(i)\n",
    "        i+=1\n",
    "        y1.append(float(row[1]))\n",
    "  \n",
    "fig, ax = plt.subplots(figsize=(20,2), constrained_layout=True)\n",
    "plt.plot(x, y1)\n",
    "\n",
    "ax.set_ylim(-2, 2)\n",
    "ax.set_xlim(0, 100)\n",
    "plt.show()"
   ]
  },
  {
   "cell_type": "markdown",
   "id": "e888ade7-f7c6-455d-95a1-60bed74efb1d",
   "metadata": {},
   "source": [
    "<h2 style=\"color:orange\">Géneration de formule avec bruit"
   ]
  },
  {
   "cell_type": "code",
   "execution_count": 35,
   "id": "091982b9-2f41-495b-b830-b22a8535adc0",
   "metadata": {},
   "outputs": [],
   "source": [
    "from formule import Formule\n",
    "periode = 20 #20 secondes\n",
    "amplitude = 1\n",
    "bruit = 1\n",
    "formule1 = Formule(\"Formule1\",periode,amplitude)\n",
    "formule2 = Formule(\"Formule1\",periode,amplitude,bruit)"
   ]
  },
  {
   "cell_type": "markdown",
   "id": "05bcea68-f76a-46d6-a5d2-8eabd125f283",
   "metadata": {},
   "source": [
    "<h2 style=\"color:orange\">Calcul des formules"
   ]
  },
  {
   "cell_type": "code",
   "execution_count": 36,
   "id": "35113c25-b847-490d-9bfe-baf30cfff137",
   "metadata": {},
   "outputs": [],
   "source": [
    "from controleur import Controleur\n",
    "\n",
    "nombre_echantillon = 100\n",
    "periode = 1 #1 seconde\n",
    "\n",
    "controleur = Controleur(nombre_echantillon,periode)\n",
    "controleur.addFormule(formule1)\n",
    "controleur.addFormule(formule2)\n",
    "controleur.calcul(\"testBruit.csv\")"
   ]
  },
  {
   "cell_type": "markdown",
   "id": "1a6c3b09-55b7-44db-b628-7536d37fbd16",
   "metadata": {},
   "source": [
    "<h3 style=\"color:SkyBlue\">CSV"
   ]
  },
  {
   "cell_type": "code",
   "execution_count": 37,
   "id": "e2360acf-690f-4557-b8ea-b3a32d3cd659",
   "metadata": {},
   "outputs": [
    {
     "data": {
      "text/html": [
       "<div>\n",
       "<style scoped>\n",
       "    .dataframe tbody tr th:only-of-type {\n",
       "        vertical-align: middle;\n",
       "    }\n",
       "\n",
       "    .dataframe tbody tr th {\n",
       "        vertical-align: top;\n",
       "    }\n",
       "\n",
       "    .dataframe thead th {\n",
       "        text-align: right;\n",
       "    }\n",
       "</style>\n",
       "<table border=\"1\" class=\"dataframe\">\n",
       "  <thead>\n",
       "    <tr style=\"text-align: right;\">\n",
       "      <th></th>\n",
       "      <th>date</th>\n",
       "      <th>0</th>\n",
       "      <th>1</th>\n",
       "    </tr>\n",
       "  </thead>\n",
       "  <tbody>\n",
       "    <tr>\n",
       "      <th>0</th>\n",
       "      <td>13:50:00 2022/03/15</td>\n",
       "      <td>0.000000</td>\n",
       "      <td>-0.336740</td>\n",
       "    </tr>\n",
       "    <tr>\n",
       "      <th>1</th>\n",
       "      <td>13:50:01 2022/03/15</td>\n",
       "      <td>0.309017</td>\n",
       "      <td>0.484350</td>\n",
       "    </tr>\n",
       "    <tr>\n",
       "      <th>2</th>\n",
       "      <td>13:50:02 2022/03/15</td>\n",
       "      <td>0.587785</td>\n",
       "      <td>0.838569</td>\n",
       "    </tr>\n",
       "    <tr>\n",
       "      <th>3</th>\n",
       "      <td>13:50:03 2022/03/15</td>\n",
       "      <td>0.809017</td>\n",
       "      <td>0.457650</td>\n",
       "    </tr>\n",
       "    <tr>\n",
       "      <th>4</th>\n",
       "      <td>13:50:04 2022/03/15</td>\n",
       "      <td>0.951057</td>\n",
       "      <td>1.102427</td>\n",
       "    </tr>\n",
       "    <tr>\n",
       "      <th>5</th>\n",
       "      <td>13:50:05 2022/03/15</td>\n",
       "      <td>1.000000</td>\n",
       "      <td>1.224533</td>\n",
       "    </tr>\n",
       "    <tr>\n",
       "      <th>6</th>\n",
       "      <td>13:50:06 2022/03/15</td>\n",
       "      <td>0.951057</td>\n",
       "      <td>1.253043</td>\n",
       "    </tr>\n",
       "    <tr>\n",
       "      <th>7</th>\n",
       "      <td>13:50:07 2022/03/15</td>\n",
       "      <td>0.809017</td>\n",
       "      <td>0.729243</td>\n",
       "    </tr>\n",
       "    <tr>\n",
       "      <th>8</th>\n",
       "      <td>13:50:08 2022/03/15</td>\n",
       "      <td>0.587785</td>\n",
       "      <td>0.252537</td>\n",
       "    </tr>\n",
       "    <tr>\n",
       "      <th>9</th>\n",
       "      <td>13:50:09 2022/03/15</td>\n",
       "      <td>0.309017</td>\n",
       "      <td>0.194719</td>\n",
       "    </tr>\n",
       "  </tbody>\n",
       "</table>\n",
       "</div>"
      ],
      "text/plain": [
       "                  date         0         1\n",
       "0  13:50:00 2022/03/15  0.000000 -0.336740\n",
       "1  13:50:01 2022/03/15  0.309017  0.484350\n",
       "2  13:50:02 2022/03/15  0.587785  0.838569\n",
       "3  13:50:03 2022/03/15  0.809017  0.457650\n",
       "4  13:50:04 2022/03/15  0.951057  1.102427\n",
       "5  13:50:05 2022/03/15  1.000000  1.224533\n",
       "6  13:50:06 2022/03/15  0.951057  1.253043\n",
       "7  13:50:07 2022/03/15  0.809017  0.729243\n",
       "8  13:50:08 2022/03/15  0.587785  0.252537\n",
       "9  13:50:09 2022/03/15  0.309017  0.194719"
      ]
     },
     "execution_count": 37,
     "metadata": {},
     "output_type": "execute_result"
    }
   ],
   "source": [
    "import pandas as pd\n",
    "\n",
    "df = pd.read_csv(\"testBruit.csv\", sep=\",\")\n",
    "df.head(10)"
   ]
  },
  {
   "cell_type": "markdown",
   "id": "020c8e2a-f9d4-4ef5-8063-8378fe39341c",
   "metadata": {},
   "source": [
    "<h3 style=\"color:SkyBlue\">Graphique"
   ]
  },
  {
   "cell_type": "code",
   "execution_count": 38,
   "id": "e94b8339-57af-45ba-8978-353eacd23343",
   "metadata": {},
   "outputs": [
    {
     "data": {
      "image/png": "[encoded data removed]",
      "text/plain": [
       "<Figure size 1440x144 with 1 Axes>"
      ]
     },
     "metadata": {
      "needs_background": "light"
     },
     "output_type": "display_data"
    }
   ],
   "source": [
    "import matplotlib.pyplot as plt\n",
    "import csv\n",
    "\n",
    "x = []\n",
    "y1 = []\n",
    "y2 = []\n",
    "  \n",
    "with open('testBruit.csv','r') as csvfile:\n",
    "    plots = csv.reader(csvfile, delimiter = ',')\n",
    "    i=1\n",
    "    next(plots, None) #passer le header\n",
    "    for row in plots:\n",
    "        x.append(i)\n",
    "        i+=1\n",
    "        y1.append(float(row[1]))\n",
    "        y2.append(float(row[2]))\n",
    "  \n",
    "fig, ax = plt.subplots(figsize=(20,2), constrained_layout=True)\n",
    "plt.plot(x, y1)\n",
    "plt.plot(x, y2)\n",
    "ax.set_ylim(-2, 2)\n",
    "ax.set_xlim(0, 100)\n",
    "plt.show()"
   ]
  }
 ],
 "metadata": {
  "kernelspec": {
   "display_name": "Python 3 (ipykernel)",
   "language": "python",
   "name": "python3"
  },
  "language_info": {
   "codemirror_mode": {
    "name": "ipython",
    "version": 3
   },
   "file_extension": ".py",
   "mimetype": "text/x-python",
   "name": "python",
   "nbconvert_exporter": "python",
   "pygments_lexer": "ipython3",
   "version": "3.9.7"
  }
 },
 "nbformat": 4,
 "nbformat_minor": 5
}
