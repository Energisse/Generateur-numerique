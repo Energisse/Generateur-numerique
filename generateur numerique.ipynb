{
 "cells": [
  {
   "cell_type": "markdown",
   "id": "9329975a-e4c9-49ad-94ab-dadf265dbb7b",
   "metadata": {},
   "source": [
    "<h1 style=\"color:blue\">Générateur numérique"
   ]
  },
  {
   "cell_type": "markdown",
   "id": "af3b0f23",
   "metadata": {},
   "source": [
    "Le générateur de données numérique permet de générer des données sous forme de fonction sinusoïdale"
   ]
  },
  {
   "cell_type": "markdown",
   "id": "f5ec1ca3",
   "metadata": {},
   "source": [
    "<h2 style=\"color:orange\">Simulation a l'aide d'une simple fonction"
   ]
  },
  {
   "cell_type": "markdown",
   "id": "b63f2988-5140-482f-8097-8db5ce4f74b4",
   "metadata": {
    "tags": []
   },
   "source": [
    "<h3 style=\"color:green\">Géneration de la formule"
   ]
  },
  {
   "cell_type": "code",
   "execution_count": 11,
   "id": "fcd2cc66-eacd-4d76-bc55-e5ddd064ca28",
   "metadata": {},
   "outputs": [],
   "source": [
    "from formuleMonoPeriode import FormuleMonoPeriode\n",
    "from formule import Formule\n",
    "periode = 20 #20 secondes\n",
    "amplitude = 1\n",
    "formule = Formule(\"Formule 1\")\n",
    "formule.ajouter_monoperiode(FormuleMonoPeriode(periode,amplitude))"
   ]
  },
  {
   "cell_type": "markdown",
   "id": "5fd5e558-2bd7-4280-acfc-57021993b3a3",
   "metadata": {},
   "source": [
    "<h3 style=\"color:green\">Calcul de la formule"
   ]
  },
  {
   "cell_type": "code",
   "execution_count": 12,
   "id": "95274996-a77c-4905-9831-4c5b63d72cfa",
   "metadata": {},
   "outputs": [],
   "source": [
    "from controleur import Controleur\n",
    "\n",
    "nombre_echantillon = 100\n",
    "periode = 1 #1 seconde\n",
    "\n",
    "controleur = Controleur(nombre_echantillon,periode)\n",
    "controleur.ajouter_formule(formule)\n",
    "controleur.calcul()"
   ]
  },
  {
   "cell_type": "markdown",
   "id": "a7da49de-c326-4209-851a-5194e992e0f3",
   "metadata": {},
   "source": [
    "<h4 style=\"color:SkyBlue\">Résultat : Tableau"
   ]
  },
  {
   "cell_type": "code",
   "execution_count": 13,
   "id": "c64f99e0-a86a-4a2b-91bc-5f8727f0abb8",
   "metadata": {},
   "outputs": [
    {
     "data": {
      "text/html": [
       "<div>\n",
       "<style scoped>\n",
       "    .dataframe tbody tr th:only-of-type {\n",
       "        vertical-align: middle;\n",
       "    }\n",
       "\n",
       "    .dataframe tbody tr th {\n",
       "        vertical-align: top;\n",
       "    }\n",
       "\n",
       "    .dataframe thead th {\n",
       "        text-align: right;\n",
       "    }\n",
       "</style>\n",
       "<table border=\"1\" class=\"dataframe\">\n",
       "  <thead>\n",
       "    <tr style=\"text-align: right;\">\n",
       "      <th></th>\n",
       "      <th>0</th>\n",
       "    </tr>\n",
       "  </thead>\n",
       "  <tbody>\n",
       "    <tr>\n",
       "      <th>17:25:55 2022/03/29</th>\n",
       "      <td>0.000000</td>\n",
       "    </tr>\n",
       "    <tr>\n",
       "      <th>17:25:56 2022/03/29</th>\n",
       "      <td>0.309017</td>\n",
       "    </tr>\n",
       "    <tr>\n",
       "      <th>17:25:57 2022/03/29</th>\n",
       "      <td>0.587785</td>\n",
       "    </tr>\n",
       "    <tr>\n",
       "      <th>17:25:58 2022/03/29</th>\n",
       "      <td>0.809017</td>\n",
       "    </tr>\n",
       "    <tr>\n",
       "      <th>17:25:59 2022/03/29</th>\n",
       "      <td>0.951057</td>\n",
       "    </tr>\n",
       "    <tr>\n",
       "      <th>17:26:00 2022/03/29</th>\n",
       "      <td>1.000000</td>\n",
       "    </tr>\n",
       "    <tr>\n",
       "      <th>17:26:01 2022/03/29</th>\n",
       "      <td>0.951057</td>\n",
       "    </tr>\n",
       "    <tr>\n",
       "      <th>17:26:02 2022/03/29</th>\n",
       "      <td>0.809017</td>\n",
       "    </tr>\n",
       "    <tr>\n",
       "      <th>17:26:03 2022/03/29</th>\n",
       "      <td>0.587785</td>\n",
       "    </tr>\n",
       "    <tr>\n",
       "      <th>17:26:04 2022/03/29</th>\n",
       "      <td>0.309017</td>\n",
       "    </tr>\n",
       "  </tbody>\n",
       "</table>\n",
       "</div>"
      ],
      "text/plain": [
       "                            0\n",
       "17:25:55 2022/03/29  0.000000\n",
       "17:25:56 2022/03/29  0.309017\n",
       "17:25:57 2022/03/29  0.587785\n",
       "17:25:58 2022/03/29  0.809017\n",
       "17:25:59 2022/03/29  0.951057\n",
       "17:26:00 2022/03/29  1.000000\n",
       "17:26:01 2022/03/29  0.951057\n",
       "17:26:02 2022/03/29  0.809017\n",
       "17:26:03 2022/03/29  0.587785\n",
       "17:26:04 2022/03/29  0.309017"
      ]
     },
     "execution_count": 13,
     "metadata": {},
     "output_type": "execute_result"
    }
   ],
   "source": [
    "controleur.data_frame.head(10)"
   ]
  },
  {
   "cell_type": "markdown",
   "id": "0dd23ef0-db5e-4bad-8c09-3081bd6769b9",
   "metadata": {},
   "source": [
    "<h4 style=\"color:SkyBlue\">Résultat : Graphique"
   ]
  },
  {
   "cell_type": "code",
   "execution_count": 14,
   "id": "94592364-1f0e-45e1-bdff-0f61243048df",
   "metadata": {},
   "outputs": [
    {
     "data": {
      "text/plain": [
       "<AxesSubplot:>"
      ]
     },
     "execution_count": 14,
     "metadata": {},
     "output_type": "execute_result"
    },
    {
     "data": {
      "image/png": "[encoded data removed]",
      "text/plain": [
       "<Figure size 1440x144 with 1 Axes>"
      ]
     },
     "metadata": {
      "needs_background": "light"
     },
     "output_type": "display_data"
    }
   ],
   "source": [
    "controleur.data_frame.plot(figsize=[20,2])"
   ]
  },
  {
   "cell_type": "markdown",
   "id": "e888ade7-f7c6-455d-95a1-60bed74efb1d",
   "metadata": {},
   "source": [
    "<h2 style=\"color:orange\">Simulation a l'aide de bruit"
   ]
  },
  {
   "cell_type": "markdown",
   "id": "a4ff59f3",
   "metadata": {},
   "source": [
    "<h3 style=\"color:green\">Géneration de la formule"
   ]
  },
  {
   "cell_type": "code",
   "execution_count": 15,
   "id": "091982b9-2f41-495b-b830-b22a8535adc0",
   "metadata": {},
   "outputs": [],
   "source": [
    "from formuleMonoPeriode import FormuleMonoPeriode\n",
    "from formule import Formule\n",
    "periode = 20 #20 secondes\n",
    "amplitude = 1\n",
    "bruit = 1\n",
    "\n",
    "formule = Formule(\"Formule sans bruit\")\n",
    "formule.ajouter_monoperiode(FormuleMonoPeriode(periode,amplitude))\n",
    "\n",
    "formule_bruit = Formule(\"Formule avec bruit\")\n",
    "formule_bruit.ajouter_monoperiode(FormuleMonoPeriode(periode,amplitude,bruit))"
   ]
  },
  {
   "cell_type": "markdown",
   "id": "05bcea68-f76a-46d6-a5d2-8eabd125f283",
   "metadata": {},
   "source": [
    "<h3 style=\"color:green\">Calcul de la formule"
   ]
  },
  {
   "cell_type": "code",
   "execution_count": 16,
   "id": "35113c25-b847-490d-9bfe-baf30cfff137",
   "metadata": {},
   "outputs": [],
   "source": [
    "from controleur import Controleur\n",
    "\n",
    "nombre_echantillon = 100\n",
    "periode = 1 #1 seconde\n",
    "\n",
    "controleur = Controleur(nombre_echantillon,periode)\n",
    "controleur.ajouter_formule(formule)\n",
    "controleur.ajouter_formule(formule_bruit)\n",
    "controleur.calcul()"
   ]
  },
  {
   "cell_type": "markdown",
   "id": "1a6c3b09-55b7-44db-b628-7536d37fbd16",
   "metadata": {},
   "source": [
    "<h4 style=\"color:SkyBlue\">Résultat : Tableau"
   ]
  },
  {
   "cell_type": "code",
   "execution_count": 17,
   "id": "e2360acf-690f-4557-b8ea-b3a32d3cd659",
   "metadata": {},
   "outputs": [
    {
     "data": {
      "text/html": [
       "<div>\n",
       "<style scoped>\n",
       "    .dataframe tbody tr th:only-of-type {\n",
       "        vertical-align: middle;\n",
       "    }\n",
       "\n",
       "    .dataframe tbody tr th {\n",
       "        vertical-align: top;\n",
       "    }\n",
       "\n",
       "    .dataframe thead th {\n",
       "        text-align: right;\n",
       "    }\n",
       "</style>\n",
       "<table border=\"1\" class=\"dataframe\">\n",
       "  <thead>\n",
       "    <tr style=\"text-align: right;\">\n",
       "      <th></th>\n",
       "      <th>0</th>\n",
       "      <th>1</th>\n",
       "    </tr>\n",
       "  </thead>\n",
       "  <tbody>\n",
       "    <tr>\n",
       "      <th>17:25:55 2022/03/29</th>\n",
       "      <td>0.000000</td>\n",
       "      <td>0.007209</td>\n",
       "    </tr>\n",
       "    <tr>\n",
       "      <th>17:25:56 2022/03/29</th>\n",
       "      <td>0.309017</td>\n",
       "      <td>0.210565</td>\n",
       "    </tr>\n",
       "    <tr>\n",
       "      <th>17:25:57 2022/03/29</th>\n",
       "      <td>0.587785</td>\n",
       "      <td>0.663127</td>\n",
       "    </tr>\n",
       "    <tr>\n",
       "      <th>17:25:58 2022/03/29</th>\n",
       "      <td>0.809017</td>\n",
       "      <td>0.904114</td>\n",
       "    </tr>\n",
       "    <tr>\n",
       "      <th>17:25:59 2022/03/29</th>\n",
       "      <td>0.951057</td>\n",
       "      <td>0.678673</td>\n",
       "    </tr>\n",
       "    <tr>\n",
       "      <th>17:26:00 2022/03/29</th>\n",
       "      <td>1.000000</td>\n",
       "      <td>1.147163</td>\n",
       "    </tr>\n",
       "    <tr>\n",
       "      <th>17:26:01 2022/03/29</th>\n",
       "      <td>0.951057</td>\n",
       "      <td>0.874002</td>\n",
       "    </tr>\n",
       "    <tr>\n",
       "      <th>17:26:02 2022/03/29</th>\n",
       "      <td>0.809017</td>\n",
       "      <td>0.868481</td>\n",
       "    </tr>\n",
       "    <tr>\n",
       "      <th>17:26:03 2022/03/29</th>\n",
       "      <td>0.587785</td>\n",
       "      <td>0.241335</td>\n",
       "    </tr>\n",
       "    <tr>\n",
       "      <th>17:26:04 2022/03/29</th>\n",
       "      <td>0.309017</td>\n",
       "      <td>0.669367</td>\n",
       "    </tr>\n",
       "  </tbody>\n",
       "</table>\n",
       "</div>"
      ],
      "text/plain": [
       "                            0         1\n",
       "17:25:55 2022/03/29  0.000000  0.007209\n",
       "17:25:56 2022/03/29  0.309017  0.210565\n",
       "17:25:57 2022/03/29  0.587785  0.663127\n",
       "17:25:58 2022/03/29  0.809017  0.904114\n",
       "17:25:59 2022/03/29  0.951057  0.678673\n",
       "17:26:00 2022/03/29  1.000000  1.147163\n",
       "17:26:01 2022/03/29  0.951057  0.874002\n",
       "17:26:02 2022/03/29  0.809017  0.868481\n",
       "17:26:03 2022/03/29  0.587785  0.241335\n",
       "17:26:04 2022/03/29  0.309017  0.669367"
      ]
     },
     "execution_count": 17,
     "metadata": {},
     "output_type": "execute_result"
    }
   ],
   "source": [
    "controleur.data_frame.head(10)"
   ]
  },
  {
   "cell_type": "markdown",
   "id": "020c8e2a-f9d4-4ef5-8063-8378fe39341c",
   "metadata": {},
   "source": [
    "<h4 style=\"color:SkyBlue\">Résultat : Graphique"
   ]
  },
  {
   "cell_type": "code",
   "execution_count": 18,
   "id": "e94b8339-57af-45ba-8978-353eacd23343",
   "metadata": {},
   "outputs": [
    {
     "data": {
      "text/plain": [
       "<AxesSubplot:>"
      ]
     },
     "execution_count": 18,
     "metadata": {},
     "output_type": "execute_result"
    },
    {
     "data": {
      "image/png": "[encoded data removed]",
      "text/plain": [
       "<Figure size 1440x144 with 1 Axes>"
      ]
     },
     "metadata": {
      "needs_background": "light"
     },
     "output_type": "display_data"
    }
   ],
   "source": [
    "controleur.data_frame.plot(figsize=[20,2])"
   ]
  },
  {
   "cell_type": "markdown",
   "id": "e888ade7-f7c6-455d-95a1-60bed74efb1d",
   "metadata": {},
   "source": [
    "<h2 style=\"color:orange\">Simulation a l'aide de somme de fonction"
   ]
  },
  {
   "cell_type": "markdown",
   "id": "ed8cc312",
   "metadata": {},
   "source": [
    "Dans cette exemple nous voulons simuler un capteur de température ayant une température moyenne à 25°C et avec une amplitude de 5°C"
   ]
  },
  {
   "cell_type": "markdown",
   "id": "05bcea68-f76a-46d6-a5d2-8eabd125f283",
   "metadata": {},
   "source": [
    "<h3 style=\"color:green\">Calcul des formules"
   ]
  },
  {
   "cell_type": "markdown",
   "id": "723c0c04",
   "metadata": {},
   "source": [
    "Pour cela il faut 3 formules\n",
    "<ul>\n",
    "    <li>Une formule période de 1 journée et d'amplitude 5</li>\n",
    "    <li>Une formule ayant une periode nulle et une amplitude de 25</li>\n",
    "    <li>Une formule de bruit</li>\n",
    "</ul>\n"
   ]
  },
  {
   "cell_type": "code",
   "execution_count": 19,
   "id": "7c8fd0c9",
   "metadata": {},
   "outputs": [],
   "source": [
    "from formuleMonoPeriode import FormuleMonoPeriode\n",
    "from formule import Formule\n",
    "from controleur import Controleur\n",
    "formule_periodique = FormuleMonoPeriode(3600*24,5)\n",
    "formule_periodique_nulle = FormuleMonoPeriode(0,25)\n",
    "formule_bruit = FormuleMonoPeriode(0,0,1)\n",
    "\n",
    "formule_temperature = Formule(\"Temperature\")\n",
    "\n",
    "nombre_echantillon = 144\n",
    "periode = 3600 #1 heure\n",
    "formule_temperature.ajouter_monoperiode(formule_periodique)\n",
    "formule_temperature.ajouter_monoperiode(formule_periodique_nulle)\n",
    "formule_temperature.ajouter_monoperiode(formule_bruit)\n",
    "\n",
    "controleur = Controleur(nombre_echantillon,periode)\n",
    "controleur.ajouter_formule(formule_temperature)\n",
    "controleur.calcul()\n"
   ]
  },
  {
   "cell_type": "markdown",
   "id": "020c8e2a-f9d4-4ef5-8063-8378fe39341c",
   "metadata": {},
   "source": [
    "<h4 style=\"color:SkyBlue\">Résultat : Tableau"
   ]
  },
  {
   "cell_type": "code",
   "execution_count": 20,
   "id": "cefbf1b9",
   "metadata": {},
   "outputs": [
    {
     "data": {
      "text/html": [
       "<div>\n",
       "<style scoped>\n",
       "    .dataframe tbody tr th:only-of-type {\n",
       "        vertical-align: middle;\n",
       "    }\n",
       "\n",
       "    .dataframe tbody tr th {\n",
       "        vertical-align: top;\n",
       "    }\n",
       "\n",
       "    .dataframe thead th {\n",
       "        text-align: right;\n",
       "    }\n",
       "</style>\n",
       "<table border=\"1\" class=\"dataframe\">\n",
       "  <thead>\n",
       "    <tr style=\"text-align: right;\">\n",
       "      <th></th>\n",
       "      <th>0</th>\n",
       "    </tr>\n",
       "  </thead>\n",
       "  <tbody>\n",
       "    <tr>\n",
       "      <th>18:25:54 2022/03/29</th>\n",
       "      <td>24.650742</td>\n",
       "    </tr>\n",
       "    <tr>\n",
       "      <th>19:25:54 2022/03/29</th>\n",
       "      <td>26.324945</td>\n",
       "    </tr>\n",
       "    <tr>\n",
       "      <th>20:25:54 2022/03/29</th>\n",
       "      <td>27.651203</td>\n",
       "    </tr>\n",
       "    <tr>\n",
       "      <th>21:25:54 2022/03/29</th>\n",
       "      <td>28.702982</td>\n",
       "    </tr>\n",
       "    <tr>\n",
       "      <th>22:25:54 2022/03/29</th>\n",
       "      <td>29.599491</td>\n",
       "    </tr>\n",
       "    <tr>\n",
       "      <th>23:25:54 2022/03/29</th>\n",
       "      <td>30.294708</td>\n",
       "    </tr>\n",
       "    <tr>\n",
       "      <th>00:25:54 2022/03/30</th>\n",
       "      <td>30.025104</td>\n",
       "    </tr>\n",
       "    <tr>\n",
       "      <th>01:25:54 2022/03/30</th>\n",
       "      <td>29.758927</td>\n",
       "    </tr>\n",
       "    <tr>\n",
       "      <th>02:25:54 2022/03/30</th>\n",
       "      <td>29.591807</td>\n",
       "    </tr>\n",
       "    <tr>\n",
       "      <th>03:25:54 2022/03/30</th>\n",
       "      <td>28.362690</td>\n",
       "    </tr>\n",
       "  </tbody>\n",
       "</table>\n",
       "</div>"
      ],
      "text/plain": [
       "                             0\n",
       "18:25:54 2022/03/29  24.650742\n",
       "19:25:54 2022/03/29  26.324945\n",
       "20:25:54 2022/03/29  27.651203\n",
       "21:25:54 2022/03/29  28.702982\n",
       "22:25:54 2022/03/29  29.599491\n",
       "23:25:54 2022/03/29  30.294708\n",
       "00:25:54 2022/03/30  30.025104\n",
       "01:25:54 2022/03/30  29.758927\n",
       "02:25:54 2022/03/30  29.591807\n",
       "03:25:54 2022/03/30  28.362690"
      ]
     },
     "execution_count": 20,
     "metadata": {},
     "output_type": "execute_result"
    }
   ],
   "source": [
    "controleur.data_frame.head(10)"
   ]
  },
  {
   "cell_type": "markdown",
   "id": "020c8e2a-f9d4-4ef5-8063-8378fe39341c",
   "metadata": {},
   "source": [
    "<h4 style=\"color:SkyBlue\">Résultat : Graphique"
   ]
  },
  {
   "cell_type": "code",
   "execution_count": 21,
   "id": "9e9ebd86",
   "metadata": {},
   "outputs": [
    {
     "data": {
      "text/plain": [
       "<AxesSubplot:>"
      ]
     },
     "execution_count": 21,
     "metadata": {},
     "output_type": "execute_result"
    },
    {
     "data": {
      "image/png": "[encoded data removed]",
      "text/plain": [
       "<Figure size 1440x144 with 1 Axes>"
      ]
     },
     "metadata": {
      "needs_background": "light"
     },
     "output_type": "display_data"
    }
   ],
   "source": [
    "controleur.data_frame.plot(figsize=[20,2])"
   ]
  },
  {
   "cell_type": "code",
   "execution_count": null,
   "id": "8545ffd6",
   "metadata": {},
   "outputs": [],
   "source": []
  }
 ],
 "metadata": {
  "kernelspec": {
   "display_name": "Python 3 (ipykernel)",
   "language": "python",
   "name": "python3"
  },
  "language_info": {
   "codemirror_mode": {
    "name": "ipython",
    "version": 3
   },
   "file_extension": ".py",
   "mimetype": "text/x-python",
   "name": "python",
   "nbconvert_exporter": "python",
   "pygments_lexer": "ipython3",
   "version": "3.8.6"
  }
 },
 "nbformat": 4,
 "nbformat_minor": 5
}
